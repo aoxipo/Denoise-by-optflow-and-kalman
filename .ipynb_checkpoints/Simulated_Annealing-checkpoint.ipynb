{
 "cells": [
  {
   "cell_type": "code",
   "execution_count": 1,
   "metadata": {
    "ExecuteTime": {
     "end_time": "2021-12-23T11:02:41.557206Z",
     "start_time": "2021-12-23T11:02:40.024034Z"
    },
    "collapsed": true
   },
   "outputs": [],
   "source": [
    "from __future__ import division\n",
    "import numpy as np\n",
    "import matplotlib.pyplot as plt\n",
    "import math"
   ]
  },
  {
   "cell_type": "code",
   "execution_count": 19,
   "metadata": {
    "ExecuteTime": {
     "end_time": "2021-12-23T11:10:49.326214Z",
     "start_time": "2021-12-23T11:10:49.312223Z"
    },
    "collapsed": true
   },
   "outputs": [],
   "source": [
    "\"\"\"\n",
    "start_range : 下限 \n",
    "end_range :  上限\n",
    "\"\"\"\n",
    "start_range = 1\n",
    "end_range = 10"
   ]
  },
  {
   "cell_type": "code",
   "execution_count": 21,
   "metadata": {
    "ExecuteTime": {
     "end_time": "2021-12-23T11:11:02.438145Z",
     "start_time": "2021-12-23T11:11:02.427156Z"
    },
    "collapsed": true
   },
   "outputs": [],
   "source": [
    " #define function\n",
    "def aimFunction(x):\n",
    "    \n",
    "    y=x**3-60*x**2-4*x+6\n",
    "    \n",
    "    return y"
   ]
  },
  {
   "cell_type": "code",
   "execution_count": 30,
   "metadata": {
    "ExecuteTime": {
     "end_time": "2021-12-23T11:18:12.220021Z",
     "start_time": "2021-12-23T11:18:12.199027Z"
    },
    "collapsed": false
   },
   "outputs": [],
   "source": [
    "def Simulated_Annealing(function_name):\n",
    "    T=1000 #initiate temperature\n",
    "    Tmin=10 #minimum value of terperature\n",
    "    x=np.random.uniform(low=start_range,high=end_range)#initiate x\n",
    "    k=50 #times of internal circulation \n",
    "    y=0#initiate result\n",
    "    t=0#time\n",
    "    while T>=Tmin:\n",
    "        for i in range(k):\n",
    "            #calculate y\n",
    "            y = function_name(x)\n",
    "            #generate a new x in the neighboorhood of x by transform function\n",
    "            xNew = x + np.random.uniform(low=-0.055,high=0.055)*T\n",
    "            if (start_range<=xNew and xNew<=end_range):\n",
    "                yNew = function_name(xNew)\n",
    "                if yNew-y<0:\n",
    "                    x=xNew\n",
    "                else:\n",
    "                    #metropolis principle\n",
    "                    p=math.exp(-(yNew-y)/T)\n",
    "                    r=np.random.uniform(low=0,high=1)\n",
    "                    if r<p:\n",
    "                        x=xNew\n",
    "        t+=1\n",
    "        T=1000/(1+t)\n",
    "    \n",
    "    return x,aimFunction(x)\n"
   ]
  },
  {
   "cell_type": "code",
   "execution_count": 31,
   "metadata": {
    "ExecuteTime": {
     "end_time": "2021-12-23T11:18:12.900632Z",
     "start_time": "2021-12-23T11:18:12.744721Z"
    },
    "collapsed": false
   },
   "outputs": [
    {
     "name": "stdout",
     "output_type": "stream",
     "text": [
      "(9.973566284808076, -5010.124902175795)\n"
     ]
    }
   ],
   "source": [
    "print(Simulated_Annealing(aimFunction))"
   ]
  },
  {
   "cell_type": "code",
   "execution_count": null,
   "metadata": {
    "collapsed": true
   },
   "outputs": [],
   "source": []
  }
 ],
 "metadata": {
  "hide_input": false,
  "kernelspec": {
   "display_name": "DSIM",
   "language": "python",
   "name": "dsim"
  },
  "language_info": {
   "codemirror_mode": {
    "name": "ipython",
    "version": 3
   },
   "file_extension": ".py",
   "mimetype": "text/x-python",
   "name": "python",
   "nbconvert_exporter": "python",
   "pygments_lexer": "ipython3",
   "version": "3.7.11"
  },
  "latex_envs": {
   "LaTeX_envs_menu_present": true,
   "autoclose": false,
   "autocomplete": true,
   "bibliofile": "biblio.bib",
   "cite_by": "apalike",
   "current_citInitial": 1,
   "eqLabelWithNumbers": true,
   "eqNumInitial": 1,
   "hotkeys": {
    "equation": "Ctrl-E",
    "itemize": "Ctrl-I"
   },
   "labels_anchors": false,
   "latex_user_defs": false,
   "report_style_numbering": false,
   "user_envs_cfg": false
  },
  "toc": {
   "base_numbering": 1,
   "nav_menu": {},
   "number_sections": true,
   "sideBar": true,
   "skip_h1_title": false,
   "title_cell": "Table of Contents",
   "title_sidebar": "Contents",
   "toc_cell": false,
   "toc_position": {},
   "toc_section_display": true,
   "toc_window_display": false
  },
  "varInspector": {
   "cols": {
    "lenName": 16,
    "lenType": 16,
    "lenVar": 40
   },
   "kernels_config": {
    "python": {
     "delete_cmd_postfix": "",
     "delete_cmd_prefix": "del ",
     "library": "var_list.py",
     "varRefreshCmd": "print(var_dic_list())"
    },
    "r": {
     "delete_cmd_postfix": ") ",
     "delete_cmd_prefix": "rm(",
     "library": "var_list.r",
     "varRefreshCmd": "cat(var_dic_list()) "
    }
   },
   "types_to_exclude": [
    "module",
    "function",
    "builtin_function_or_method",
    "instance",
    "_Feature"
   ],
   "window_display": false
  }
 },
 "nbformat": 4,
 "nbformat_minor": 2
}
