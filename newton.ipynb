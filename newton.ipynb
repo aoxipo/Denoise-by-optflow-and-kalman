{
 "cells": [
  {
   "cell_type": "code",
   "execution_count": 1,
   "metadata": {
    "ExecuteTime": {
     "end_time": "2021-12-23T11:22:02.445057Z",
     "start_time": "2021-12-23T11:22:00.972864Z"
    },
    "collapsed": true
   },
   "outputs": [],
   "source": [
    "import numpy as np\n",
    "import matplotlib.pyplot as plt"
   ]
  },
  {
   "cell_type": "code",
   "execution_count": 2,
   "metadata": {
    "ExecuteTime": {
     "end_time": "2021-12-23T11:25:18.890558Z",
     "start_time": "2021-12-23T11:25:18.877531Z"
    },
    "collapsed": true
   },
   "outputs": [],
   "source": [
    "\"\"\"\n",
    "x0:初始值 搜索初始值 有助于加快搜索\n",
    "theta:阈值 精度达到多少时停止\n",
    "start_range : 下限 \n",
    "end_range :  上限\n",
    "\"\"\"\n",
    "x0=10\n",
    "theta=1e-5 \n",
    "start_range = 1\n",
    "end_range = 10"
   ]
  },
  {
   "cell_type": "code",
   "execution_count": null,
   "metadata": {
    "collapsed": true
   },
   "outputs": [],
   "source": [
    "# 定义函数，构造数值\n",
    "init_fun = lambda x: x**2-3*x\n",
    "\n",
    "def init_fun(x):\n",
    "    return  x**2-3*x\n",
    "\n",
    "tran_fun = lambda x: np.sqrt(3*x)\n",
    "\n",
    "def tran_fun(x):\n",
    "    return  np.sqrt(3*x)"
   ]
  },
  {
   "cell_type": "code",
   "execution_count": null,
   "metadata": {
    "collapsed": true
   },
   "outputs": [],
   "source": [
    "\n",
    "\n",
    " \n",
    "\n",
    " \n",
    "\n",
    " \n",
    "# 函数图像\n",
    "fig_1 = plt.figure(figsize = (8, 6))\n",
    "plt.xlabel('X')\n",
    "plt.ylabel('Y')\n",
    "plt.title('$f(x)=x^2-3x$ 图像')\n",
    " \n",
    "# 函数图像\n",
    "x=[]\n",
    "if x0>0:\n",
    "    x = np.arange(-1,x0,0.05)\n",
    "    plt.hlines(0,-1,x0,'black','--')\n",
    "else:\n",
    "    x = np.arange(x0,10,0.05)\n",
    "    plt.hlines(0,x0,10,'black','--')\n",
    "y = init_fun(x)\n",
    "\n",
    "# 迭代法\n",
    "def iterative(func = tran_fun, x0 = x0,theta = theta):\n",
    "    number=0\n",
    "    xi = x0\n",
    "    while True and number <= 100:\n",
    "        \n",
    "        xi = func(x0)       \n",
    "        plt.vlines(x0,0,init_fun(x0),'blue','--')\n",
    "        plt.scatter(x0,init_fun(x0),c='black')\n",
    "        if abs(xi-x0) < theta:\n",
    "            return xi,number\n",
    "        x0 = xi\n",
    "        number += 1\n",
    "    \n",
    "# 迭代法计算求解x0\n",
    "xi,number = iterative(tran_fun, x0, theta)\n",
    " \n",
    "print('迭代结果：'+str(xi))\n",
    "print('迭代次数：'+str(number))\n",
    " \n",
    "## 函数求解\n",
    " \n",
    "plt.plot(x,y)\n",
    "plt.show()\n"
   ]
  }
 ],
 "metadata": {
  "hide_input": false,
  "kernelspec": {
   "display_name": "DSIM",
   "language": "python",
   "name": "dsim"
  },
  "language_info": {
   "codemirror_mode": {
    "name": "ipython",
    "version": 3
   },
   "file_extension": ".py",
   "mimetype": "text/x-python",
   "name": "python",
   "nbconvert_exporter": "python",
   "pygments_lexer": "ipython3",
   "version": "3.7.11"
  },
  "latex_envs": {
   "LaTeX_envs_menu_present": true,
   "autoclose": false,
   "autocomplete": true,
   "bibliofile": "biblio.bib",
   "cite_by": "apalike",
   "current_citInitial": 1,
   "eqLabelWithNumbers": true,
   "eqNumInitial": 1,
   "hotkeys": {
    "equation": "Ctrl-E",
    "itemize": "Ctrl-I"
   },
   "labels_anchors": false,
   "latex_user_defs": false,
   "report_style_numbering": false,
   "user_envs_cfg": false
  },
  "toc": {
   "base_numbering": 1,
   "nav_menu": {},
   "number_sections": true,
   "sideBar": true,
   "skip_h1_title": false,
   "title_cell": "Table of Contents",
   "title_sidebar": "Contents",
   "toc_cell": false,
   "toc_position": {},
   "toc_section_display": true,
   "toc_window_display": false
  },
  "varInspector": {
   "cols": {
    "lenName": 16,
    "lenType": 16,
    "lenVar": 40
   },
   "kernels_config": {
    "python": {
     "delete_cmd_postfix": "",
     "delete_cmd_prefix": "del ",
     "library": "var_list.py",
     "varRefreshCmd": "print(var_dic_list())"
    },
    "r": {
     "delete_cmd_postfix": ") ",
     "delete_cmd_prefix": "rm(",
     "library": "var_list.r",
     "varRefreshCmd": "cat(var_dic_list()) "
    }
   },
   "types_to_exclude": [
    "module",
    "function",
    "builtin_function_or_method",
    "instance",
    "_Feature"
   ],
   "window_display": false
  }
 },
 "nbformat": 4,
 "nbformat_minor": 2
}
