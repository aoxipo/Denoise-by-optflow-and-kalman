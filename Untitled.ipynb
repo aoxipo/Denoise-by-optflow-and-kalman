{
 "cells": [
  {
   "cell_type": "code",
   "execution_count": 11,
   "metadata": {
    "ExecuteTime": {
     "end_time": "2021-12-24T01:44:57.336689Z",
     "start_time": "2021-12-24T01:44:57.213765Z"
    }
   },
   "outputs": [
    {
     "name": "stdout",
     "output_type": "stream",
     "text": [
      "[1, 2, 3]\n",
      "执行 a [1, 2, 3] 1 [2, 3, 4]\n"
     ]
    }
   ],
   "source": [
    "import functools\n",
    "\n",
    "def move_judge():\n",
    "    def deco(func):\n",
    "        def _dec(*args, **kwargs):\n",
    "            face_landmark = args[0]\n",
    "            face_landmark_pre = args[1]\n",
    "            \n",
    "            if( (face_landmark[0].x - face_landmark_pre[0].x)**2 +  (face_landmark[0].y - face_landmark_pre[0].y)**2 > 4*2):\n",
    "                result = func(*args, **kwargs)\n",
    "            else:\n",
    "                result = face_landmark_pre\n",
    "            return result\n",
    "        return _dec\n",
    "    return deco\n",
    "\n",
    "\n",
    "@move_judge()\n",
    "def ls(a,b,c,d):\n",
    "    print(\"执行\",a,b,d,c)\n",
    "\n",
    "ls([1,2,3],[2,3,4],1,2)"
   ]
  },
  {
   "cell_type": "code",
   "execution_count": 7,
   "metadata": {
    "ExecuteTime": {
     "end_time": "2021-12-27T01:49:18.850587Z",
     "start_time": "2021-12-27T01:49:18.362285Z"
    }
   },
   "outputs": [
    {
     "name": "stdout",
     "output_type": "stream",
     "text": [
      "( 0 , 1 ),\n",
      "( 1 , 2 ),\n",
      "( 2 , 3 ),\n",
      "( 3 , 4 ),\n",
      "( 4 , 5 ),\n",
      "( 5 , 6 ),\n",
      "( 6 , 7 ),\n",
      "( 7 , 8 ),\n",
      "( 8 , 9 ),\n",
      "( 9 , 10 ),\n",
      "( 10 , 11 ),\n",
      "( 11 , 12 ),\n",
      "( 12 , 13 ),\n",
      "( 13 , 14 ),\n",
      "( 14 , 15 ),\n",
      "( 15 , 16 ),\n",
      "( 16 , 17 ),\n",
      "( 17 , 18 ),\n",
      "( 18 , 19 ),\n",
      "( 19 , 20 ),\n",
      "( 20 , 21 ),\n",
      "( 21 , 22 ),\n",
      "( 22 , 23 ),\n",
      "( 23 , 24 ),\n",
      "( 24 , 25 ),\n",
      "( 25 , 26 ),\n",
      "( 26 , 27 ),\n",
      "( 27 , 28 ),\n",
      "( 28 , 29 ),\n",
      "( 29 , 30 ),\n",
      "( 30 , 31 ),\n",
      "( 31 , 32 ),\n",
      "( 32 , 33 ),\n",
      "( 33 , 34 ),\n",
      "( 34 , 35 ),\n",
      "( 35 , 36 ),\n",
      "( 36 , 37 ),\n",
      "( 37 , 38 ),\n",
      "( 38 , 39 ),\n",
      "( 39 , 40 ),\n",
      "( 40 , 41 ),\n",
      "( 41 , 42 ),\n",
      "( 42 , 43 ),\n",
      "( 43 , 44 ),\n",
      "( 44 , 45 ),\n",
      "( 45 , 46 ),\n",
      "( 46 , 47 ),\n",
      "( 47 , 48 ),\n",
      "( 48 , 49 ),\n",
      "( 49 , 50 ),\n",
      "( 50 , 51 ),\n",
      "( 51 , 52 ),\n",
      "( 52 , 53 ),\n",
      "( 53 , 54 ),\n",
      "( 54 , 55 ),\n",
      "( 55 , 56 ),\n",
      "( 56 , 57 ),\n",
      "( 57 , 58 ),\n",
      "( 58 , 59 ),\n",
      "( 59 , 60 ),\n",
      "( 60 , 61 ),\n",
      "( 61 , 62 ),\n",
      "( 62 , 63 ),\n",
      "( 63 , 64 ),\n",
      "( 64 , 65 ),\n",
      "( 65 , 66 ),\n",
      "( 66 , 67 ),\n",
      "( 67 , 68 ),\n",
      "( 68 , 69 ),\n",
      "( 69 , 70 ),\n",
      "( 70 , 71 ),\n",
      "( 71 , 72 ),\n",
      "( 72 , 73 ),\n",
      "( 73 , 74 ),\n",
      "( 74 , 75 ),\n",
      "( 75 , 76 ),\n",
      "( 76 , 77 ),\n",
      "( 77 , 78 ),\n",
      "( 78 , 79 ),\n",
      "( 79 , 80 ),\n",
      "( 80 , 81 ),\n",
      "( 81 , 82 ),\n",
      "( 82 , 83 ),\n",
      "( 83 , 84 ),\n",
      "( 84 , 85 ),\n",
      "( 85 , 86 ),\n",
      "( 86 , 87 ),\n",
      "( 87 , 88 ),\n",
      "( 88 , 89 ),\n",
      "( 89 , 90 ),\n",
      "( 90 , 91 ),\n",
      "( 91 , 92 ),\n",
      "( 92 , 93 ),\n",
      "( 93 , 94 ),\n",
      "( 94 , 95 ),\n",
      "( 95 , 96 ),\n",
      "( 96 , 97 ),\n",
      "( 97 , 98 ),\n",
      "( 98 , 99 ),\n",
      "( 99 , 100 ),\n",
      "( 100 , 101 ),\n",
      "( 101 , 102 ),\n",
      "( 102 , 103 ),\n",
      "( 103 , 104 ),\n",
      "( 104 , 105 ),\n",
      "( 105 , 106 ),\n",
      "( 106 , 107 ),\n",
      "( 107 , 108 ),\n",
      "( 108 , 109 ),\n",
      "( 109 , 110 ),\n",
      "( 110 , 111 ),\n",
      "( 111 , 112 ),\n",
      "( 112 , 113 ),\n",
      "( 113 , 114 ),\n",
      "( 114 , 115 ),\n",
      "( 115 , 116 ),\n",
      "( 116 , 117 ),\n",
      "( 117 , 118 ),\n",
      "( 118 , 119 ),\n"
     ]
    }
   ],
   "source": [
    "for i in range(120-1):\n",
    "    print(\"(\",i,\",\",i+1,\"),\")"
   ]
  },
  {
   "cell_type": "code",
   "execution_count": 9,
   "metadata": {
    "ExecuteTime": {
     "end_time": "2021-12-27T01:50:55.725151Z",
     "start_time": "2021-12-27T01:50:55.703160Z"
    }
   },
   "outputs": [
    {
     "data": {
      "text/plain": [
       "(39, 15)"
      ]
     },
     "execution_count": 9,
     "metadata": {},
     "output_type": "execute_result"
    }
   ],
   "source": [
    "73-34,90-75"
   ]
  },
  {
   "cell_type": "code",
   "execution_count": null,
   "metadata": {
    "collapsed": true
   },
   "outputs": [],
   "source": [
    "import numpy as np\n",
    "import cv2 as cv\n",
    "import argparse\n",
    "parser = argparse.ArgumentParser(description='This sample demonstrates Lucas-Kanade Optical Flow calculation. \\\n",
    "                                              The example file can be downloaded from: \\\n",
    "                                              https://www.bogotobogo.com/python/OpenCV_Python/images/mean_shift_tracking/slow_traffic_small.mp4')\n",
    "parser.add_argument('image', type=str, help='path to image file')\n",
    "args = parser.parse_args()\n",
    "cap = cv.VideoCapture(args.image)\n",
    "# params for ShiTomasi corner detection\n",
    "feature_params = dict( maxCorners = 100,\n",
    "                       qualityLevel = 0.3,\n",
    "                       minDistance = 7,\n",
    "                       blockSize = 7 )\n",
    "# Parameters for lucas kanade optical flow\n",
    "lk_params = dict( winSize  = (15,15),\n",
    "                  maxLevel = 2,\n",
    "                  criteria = (cv.TERM_CRITERIA_EPS | cv.TERM_CRITERIA_COUNT, 10, 0.03))\n",
    "# Create some random colors\n",
    "color = np.random.randint(0,255,(100,3))\n",
    "# Take first frame and find corners in it\n",
    "ret, old_frame = cap.read()\n",
    "old_gray = cv.cvtColor(old_frame, cv.COLOR_BGR2GRAY)\n",
    "p0 = cv.goodFeaturesToTrack(old_gray, mask = None, **feature_params)\n",
    "# Create a mask image for drawing purposes\n",
    "mask = np.zeros_like(old_frame)\n",
    "while(1):\n",
    "    ret,frame = cap.read()\n",
    "    frame_gray = cv.cvtColor(frame, cv.COLOR_BGR2GRAY)\n",
    "    # calculate optical flow\n",
    "    p1, st, err = cv.calcOpticalFlowPyrLK(old_gray, frame_gray, p0, None, **lk_params)\n",
    "    # Select good points\n",
    "    if p1 is not None:\n",
    "        good_new = p1[st==1]\n",
    "        good_old = p0[st==1]\n",
    "    # draw the tracks\n",
    "    for i,(new,old) in enumerate(zip(good_new, good_old)):\n",
    "        a,b = new.ravel()\n",
    "        c,d = old.ravel()\n",
    "        mask = cv.line(mask, (int(a),int(b)),(int(c),int(d)), color[i].tolist(), 2)\n",
    "        frame = cv.circle(frame,(int(a),int(b)),5,color[i].tolist(),-1)\n",
    "    img = cv.add(frame,mask)\n",
    "    cv.imshow('frame',img)\n",
    "    k = cv.waitKey(30) & 0xff\n",
    "    if k == 27:\n",
    "        break\n",
    "    # Now update the previous frame and previous points\n",
    "    old_gray = frame_gray.copy()\n",
    "    p0 = good_new.reshape(-1,1,2)"
   ]
  },
  {
   "cell_type": "code",
   "execution_count": 1,
   "metadata": {
    "ExecuteTime": {
     "end_time": "2021-12-21T02:38:18.929307Z",
     "start_time": "2021-12-21T02:38:18.564517Z"
    },
    "collapsed": true
   },
   "outputs": [],
   "source": [
    "import numpy as np\n",
    "import cv2 as cv\n",
    "import cv2\n",
    "import argparse\n"
   ]
  },
  {
   "cell_type": "code",
   "execution_count": 2,
   "metadata": {
    "ExecuteTime": {
     "end_time": "2021-12-21T02:38:19.564725Z",
     "start_time": "2021-12-21T02:38:19.100218Z"
    },
    "collapsed": true
   },
   "outputs": [],
   "source": [
    "\n",
    "cap = cv.VideoCapture(\"./slow_traffic_small.mp4\")\n",
    "# params for ShiTomasi corner detection\n",
    "feature_params = dict( maxCorners = 100,\n",
    "                       qualityLevel = 0.3,\n",
    "                       minDistance = 7,\n",
    "                       blockSize = 7 )\n",
    "# Parameters for lucas kanade optical flow\n",
    "lk_params = dict( winSize  = (15,15),\n",
    "                  maxLevel = 2,\n",
    "                  criteria = (cv.TERM_CRITERIA_EPS | cv.TERM_CRITERIA_COUNT, 10, 0.03))\n",
    "# Create some random colors\n",
    "color = np.random.randint(0,255,(100,3))\n",
    "# Take first frame and find corners in it\n",
    "ret, old_frame = cap.read()\n",
    "old_gray = cv.cvtColor(old_frame, cv.COLOR_BGR2GRAY)\n",
    "p0 = cv.goodFeaturesToTrack(old_gray, mask = None, **feature_params)"
   ]
  },
  {
   "cell_type": "code",
   "execution_count": 7,
   "metadata": {
    "ExecuteTime": {
     "end_time": "2021-12-21T02:40:45.043286Z",
     "start_time": "2021-12-21T02:40:45.022297Z"
    }
   },
   "outputs": [
    {
     "data": {
      "text/plain": [
       "{'criteria': (3, 10, 0.03), 'maxLevel': 2, 'winSize': (15, 15)}"
      ]
     },
     "execution_count": 7,
     "metadata": {},
     "output_type": "execute_result"
    }
   ],
   "source": [
    "\n",
    "lk_params"
   ]
  },
  {
   "cell_type": "code",
   "execution_count": 8,
   "metadata": {
    "ExecuteTime": {
     "end_time": "2021-12-21T02:59:13.132936Z",
     "start_time": "2021-12-21T02:59:13.113921Z"
    }
   },
   "outputs": [
    {
     "data": {
      "text/plain": [
       "numpy.ndarray"
      ]
     },
     "execution_count": 8,
     "metadata": {},
     "output_type": "execute_result"
    }
   ],
   "source": [
    "type(p0)"
   ]
  },
  {
   "cell_type": "code",
   "execution_count": 9,
   "metadata": {
    "ExecuteTime": {
     "end_time": "2021-12-21T02:59:19.786359Z",
     "start_time": "2021-12-21T02:59:19.768369Z"
    }
   },
   "outputs": [
    {
     "data": {
      "text/plain": [
       "dtype('float32')"
      ]
     },
     "execution_count": 9,
     "metadata": {},
     "output_type": "execute_result"
    }
   ],
   "source": [
    "p0.dtype"
   ]
  },
  {
   "cell_type": "code",
   "execution_count": 61,
   "metadata": {
    "ExecuteTime": {
     "end_time": "2021-12-20T13:47:04.307775Z",
     "start_time": "2021-12-20T13:47:04.090896Z"
    },
    "collapsed": true
   },
   "outputs": [],
   "source": [
    "class optflow():\n",
    "    def __init__(self):\n",
    "        self.old_gray = None \n",
    "        self.lk_params = dict( winSize  = (15,15),\n",
    "                  maxLevel = 2,\n",
    "                  criteria = (cv.TERM_CRITERIA_EPS | cv.TERM_CRITERIA_COUNT, 10, 0.03))\n",
    "    def predict(self, frame, landmark:list):\n",
    "        frame_gray = cv2.cvtColor(frame, cv2.COLOR_BGR2GRAY)\n",
    "        if(self.old_gray is None):\n",
    "            self.old_gray = frame_gray\n",
    "            print(\"ignore first frame\")\n",
    "            return landmark\n",
    "\n",
    "        p0 = []\n",
    "        p1 = []\n",
    "        for i, landmark_ in enumerate(landmark):\n",
    "            p0.append([[landmark_[0][0], landmark_[0][1]]])\n",
    "            p1.append([0,0])\n",
    "            # p0.append([landmark_.x, landmark_.y])\n",
    "            \n",
    "        p0 = np.array(p0)\n",
    "            #p0 = np.array(p0).reshape(-1,1,2)\n",
    "        p1, st, err = cv2.calcOpticalFlowPyrLK( self.old_gray, frame_gray, p0, None, **lk_params)\n",
    "\n",
    "        # for i, landmark_ in enumerate(landmark):\n",
    "        #   if(st[i] == 1):\n",
    "        #     landmark_.x = p1[i][0]\n",
    "        #     landmark_.y = p1[i][1]\n",
    "\n",
    "        self.old_gray = frame_gray.copy()\n",
    "        return p1"
   ]
  },
  {
   "cell_type": "code",
   "execution_count": 62,
   "metadata": {
    "ExecuteTime": {
     "end_time": "2021-12-20T13:47:04.453687Z",
     "start_time": "2021-12-20T13:47:04.445692Z"
    },
    "collapsed": true
   },
   "outputs": [],
   "source": [
    "cuda = optflow()"
   ]
  },
  {
   "cell_type": "code",
   "execution_count": 63,
   "metadata": {
    "ExecuteTime": {
     "end_time": "2021-12-20T13:47:27.258063Z",
     "start_time": "2021-12-20T13:47:04.980631Z"
    }
   },
   "outputs": [
    {
     "name": "stdout",
     "output_type": "stream",
     "text": [
      "ignore first frame\n"
     ]
    }
   ],
   "source": [
    "mask = np.zeros_like(old_frame)\n",
    "ret = 1\n",
    "while(ret):\n",
    "    ret, frame = cap.read()\n",
    "    p1 = cuda.predict(frame, p0)\n",
    "\n",
    "    for i,(new,old) in enumerate(zip(p1, p0)):\n",
    "        a,b = new.ravel()\n",
    "        c,d = old.ravel()\n",
    "        mask = cv.line(mask, (int(a),int(b)),(int(c),int(d)), color[i].tolist(), 2)\n",
    "        frame = cv.circle(frame,(int(a),int(b)),5,color[i].tolist(),-1)\n",
    "    img = cv.add(frame,mask)\n",
    "    cv.imshow('frame',img)\n",
    "    k = cv.waitKey(30) & 0xff\n",
    "    if k == 27:\n",
    "        break\n",
    "    p0 = p1\n",
    "cv2.destroyAllWindows()"
   ]
  },
  {
   "cell_type": "code",
   "execution_count": 65,
   "metadata": {
    "ExecuteTime": {
     "end_time": "2021-12-20T13:52:53.787960Z",
     "start_time": "2021-12-20T13:52:53.772966Z"
    }
   },
   "outputs": [
    {
     "data": {
      "text/plain": [
       "(17, 1, 2)"
      ]
     },
     "execution_count": 65,
     "metadata": {},
     "output_type": "execute_result"
    }
   ],
   "source": [
    "p1.shape"
   ]
  },
  {
   "cell_type": "code",
   "execution_count": 66,
   "metadata": {
    "ExecuteTime": {
     "end_time": "2021-12-20T13:54:47.180745Z",
     "start_time": "2021-12-20T13:54:47.172751Z"
    },
    "collapsed": true
   },
   "outputs": [],
   "source": [
    "d = np.squeeze(p1)"
   ]
  },
  {
   "cell_type": "code",
   "execution_count": 67,
   "metadata": {
    "ExecuteTime": {
     "end_time": "2021-12-20T13:54:50.519823Z",
     "start_time": "2021-12-20T13:54:50.505831Z"
    }
   },
   "outputs": [
    {
     "data": {
      "text/plain": [
       "(17, 2)"
      ]
     },
     "execution_count": 67,
     "metadata": {},
     "output_type": "execute_result"
    }
   ],
   "source": [
    "d.shape"
   ]
  },
  {
   "cell_type": "code",
   "execution_count": 68,
   "metadata": {
    "ExecuteTime": {
     "end_time": "2021-12-20T14:05:07.043791Z",
     "start_time": "2021-12-20T14:05:06.997816Z"
    },
    "collapsed": true
   },
   "outputs": [],
   "source": []
  },
  {
   "cell_type": "code",
   "execution_count": null,
   "metadata": {
    "collapsed": true
   },
   "outputs": [],
   "source": []
  }
 ],
 "metadata": {
  "hide_input": false,
  "kernelspec": {
   "display_name": "Python [conda env:CSR]",
   "language": "python",
   "name": "conda-env-CSR-py"
  },
  "language_info": {
   "codemirror_mode": {
    "name": "ipython",
    "version": 3
   },
   "file_extension": ".py",
   "mimetype": "text/x-python",
   "name": "python",
   "nbconvert_exporter": "python",
   "pygments_lexer": "ipython3",
   "version": "3.6.2"
  },
  "latex_envs": {
   "LaTeX_envs_menu_present": true,
   "autoclose": false,
   "autocomplete": true,
   "bibliofile": "biblio.bib",
   "cite_by": "apalike",
   "current_citInitial": 1,
   "eqLabelWithNumbers": true,
   "eqNumInitial": 1,
   "hotkeys": {
    "equation": "Ctrl-E",
    "itemize": "Ctrl-I"
   },
   "labels_anchors": false,
   "latex_user_defs": false,
   "report_style_numbering": false,
   "user_envs_cfg": false
  },
  "toc": {
   "base_numbering": 1,
   "nav_menu": {},
   "number_sections": true,
   "sideBar": true,
   "skip_h1_title": false,
   "title_cell": "Table of Contents",
   "title_sidebar": "Contents",
   "toc_cell": false,
   "toc_position": {},
   "toc_section_display": true,
   "toc_window_display": false
  },
  "varInspector": {
   "cols": {
    "lenName": 16,
    "lenType": 16,
    "lenVar": 40
   },
   "kernels_config": {
    "python": {
     "delete_cmd_postfix": "",
     "delete_cmd_prefix": "del ",
     "library": "var_list.py",
     "varRefreshCmd": "print(var_dic_list())"
    },
    "r": {
     "delete_cmd_postfix": ") ",
     "delete_cmd_prefix": "rm(",
     "library": "var_list.r",
     "varRefreshCmd": "cat(var_dic_list()) "
    }
   },
   "types_to_exclude": [
    "module",
    "function",
    "builtin_function_or_method",
    "instance",
    "_Feature"
   ],
   "window_display": false
  }
 },
 "nbformat": 4,
 "nbformat_minor": 2
}
